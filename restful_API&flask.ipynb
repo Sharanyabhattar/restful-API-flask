{
  "nbformat": 4,
  "nbformat_minor": 0,
  "metadata": {
    "colab": {
      "provenance": []
    },
    "kernelspec": {
      "name": "python3",
      "display_name": "Python 3"
    },
    "language_info": {
      "name": "python"
    }
  },
  "cells": [
    {
      "cell_type": "markdown",
      "source": [
        "Theoretical Q & A\n",
        "1.  What is a RESTful API?\n",
        "- A RESTful API (Representational State Transfer API) is a web service that follows the principles of REST architecture to allow communication between systems over the internet, typically using HTTP.\n",
        "\n",
        " - Key Features of a RESTful API:\n",
        "Stateless: Each request from a client contains all the information needed to process it. The server does not store client state.\n",
        "\n",
        " - Resource-Based: It treats resources (like users, posts, or products) as objects that can be created, read, updated, or deleted (CRUD).\n",
        "\n",
        "- Uses HTTP Methods:\n",
        "\n",
        " - GET – Retrieve a resource\n",
        "\n",
        " - POST – Create a new resource\n",
        "\n",
        " - PUT or PATCH – Update an existing resource\n",
        "\n",
        " - DELETE – Remove a resource\n",
        "\n",
        "- Uses URLs to Identify Resources: For example, GET /users/123 might return user data for user with ID 123.\n",
        "\n",
        "- JSON or XML Format: Responses are typically returned in JSON, though XML is also possible.\n",
        "\n",
        "- 2. Explain the concept of API specification.\n",
        "- An API specification is a detailed, formal description of how an API behaves and how it should be used. It serves as a contract between the API provider and the API consumer, outlining exactly what the API can do, what inputs it accepts, and what outputs it returns.\n",
        "\n",
        " - Key Elements of an API Specification:\n",
        "Endpoints: The available URLs (routes) the API exposes, e.g., /users, /products/{id}.\n",
        "\n",
        " - Methods: The HTTP methods supported for each endpoint (e.g., GET, POST, PUT, DELETE).\n",
        "\n",
        " - Request Parameters:\n",
        "\n",
        "- Path parameters (e.g., /users/{id})\n",
        "\n",
        "- Query parameters (e.g., ?sort=asc)\n",
        "\n",
        "- Headers (e.g., authentication tokens)\n",
        "\n",
        "- Request body (typically JSON or XML for POST/PUT)\n",
        "\n",
        " - Responses:\n",
        "\n",
        "- Status codes (e.g., 200 OK, 404 Not Found)\n",
        "\n",
        "- Response body format and fields\n",
        "\n",
        "- Authentication Requirements (e.g., API keys, OAuth)\n",
        "\n",
        "- Data Types and Models: Definitions of the data structures used, often referred to as schemas.\n",
        "\n",
        "3. What is Flask, and why is it popular for building APIs?\n",
        "- Flask is a lightweight and flexible web framework for Python that's especially popular for building RESTful APIs and small to medium-sized web applications.\n",
        "- Flask is a micro-framework, meaning it provides the essential tools to get a web app or API up and running, but it doesn’t include built-in features like form validation, database abstraction, or authentication out of the box. This minimalism makes it easy to extend and customize.\n",
        " - why Flask Is Popular for Building APIs:\n",
        "-1.Simplicity & Minimalism\n",
        "\n",
        "Easy to learn and use — you can build a basic API in just a few lines of code.\n",
        "\n",
        "- 2.Flexibility\n",
        "\n",
        "Doesn’t impose structure, so you can design your application your way.\n",
        "\n",
        "- 3.Pythonic Design\n",
        "\n",
        "Integrates naturally with Python, making it a favorite for Python developers.\n",
        "\n",
        "- 4.Large Ecosystem\n",
        "\n",
        "You can add features with extensions (e.g., Flask-RESTful, Flask-JWT, Flask-SQLAlchemy).\n",
        "\n",
        "- 5.Great for Prototyping and MVPs\n",
        "\n",
        "Perfect for quickly spinning up proof-of-concept apps or microservices.\n",
        "\n",
        "- 6.Good Community Support\n",
        "\n",
        "Well-documented and backed by a large, active community.\n",
        "\n",
        "4. What is routing in Flask?\n",
        "- Routing in Flask refers to the process of mapping URLs to functions in your Python code. These functions, called view functions, handle requests to specific endpoints and return responses (like HTML, JSON, or status codes).\n",
        "\n",
        "5. How do you create a simple Flask application?\n",
        "- Creating a simple Flask application involves these steps:\n",
        "Install Flask:\n",
        "Open your terminal or command prompt.\n",
        "Run pip install Flask.\n",
        "Create a Python file:\n",
        "Create a new file named app.py (or any preferred name) in your project directory.\n",
        "Write the Flask application code:\n",
        "Import the Flask class from the flask module.\n",
        "Create an instance of the Flask class.\n",
        "Define a route using the @app.route() decorator.\n",
        "Create a function to handle requests to that route.\n",
        "Return a response from the function.\n",
        "Run the application.\n",
        "\n",
        "6. What are HTTP methods used in RESTful APIs?\n",
        "-The primary HTTP methods used in RESTful APIs are GET, POST, PUT, PATCH, and DELETE, which map to the core CRUD operations of Create, Read, Update, and Delete. These methods are fundamental for interacting with resources in a RESTful API.\n",
        "\n",
        "7. What is the purpose of the @app.route() decorator in Flask?\n",
        "- By having app. route as decorator, the function index is registered for the route / so that when that route is requested, index is called and its result “Hello world” is returned back to the client (be it a web browser, curl, etc).\n",
        "\n",
        "8. What is the difference between GET and POST HTTP methods?\n",
        "- The primary difference between HTTP GET and POST lies in their intended use: GET is used to request data from a server, while POST is used to send data to a server for processing, often to create or update resources. GET retrieves data without altering the server's state, while POST can modify or update data on the server.\n",
        "\n",
        "9. How do you handle errors in Flask APIs?\n",
        "- This can be done by registering error handlers. When Flask catches an exception while handling a request, it is first looked up by code. If no handler is registered for the code, Flask looks up the error by its class hierarchy; the most specific handler is chosen.\n",
        "\n",
        "10. How do you connect Flask to a SQL database?\n",
        "- To create a database we need to import SQLAlchemy in app.py, set up SQLite configuration, and create a database instance as shown below. We set up Flask, connect it to a SQLite database (site. db), and use db. create_all() to create the database when the app runs.\n",
        "\n",
        "11. What is the role of Flask-SQLAlchemy?\n",
        "- Flask-SQLAlchemy is a Flask extension that makes using SQLAlchemy with Flask easier, providing you tools and methods to interact with your database in your Flask applications through SQLAlchemy. In this tutorial, you'll build a small student management system that demonstrates how to use the Flask-SQLAlchemy extension.\n",
        "\n",
        "12. What are Flask blueprints, and how are they useful?\n",
        "- Each Flask Blueprint is an object that works very similarly to a Flask application. They both can have resources, such as static files, templates, and views that are associated with routes. However, a Flask Blueprint is not actually an application. It needs to be registered in an application before you can run it.\n",
        "\n",
        "13. What is the purpose of Flask's request object?\n",
        "- The Flask Request Object is used to perform both sending and receiving operations from a user's browser to the server and process the request data from the server. It should be imported from the flask module.\n",
        "\n",
        "14. How do you create a RESTful API endpoint using Flask?\n",
        "- Creating a RESTful API endpoint using Flask involves defining routes and HTTP methods to handle requests.\n",
        "Import Flask: Begin by importing the Flask class from the flask library.\n",
        "Python\n",
        "\n",
        "    from flask import Flask, request, jsonify\n",
        "Create a Flask App: Instantiate the Flask application.\n",
        "Python\n",
        "\n",
        "    app = Flask(__name__)\n",
        "Define Routes: Use the @app.route decorator to specify the URL endpoint and allowed HTTP methods.\n",
        "Python\n",
        "\n",
        "    @app.route('/items', methods=['GET', 'POST'])\n",
        "    def handle_items():\n",
        "        if request.method == 'GET':\n",
        "            # Logic to retrieve and return all items\n",
        "            return jsonify({'message': 'List of items'})\n",
        "        elif request.method == 'POST':\n",
        "            # Logic to create a new item\n",
        "            data = request.get_json()\n",
        "            return jsonify({'message': 'Item created', 'data': data}), 201\n",
        "    \n",
        "    @app.route('/items/<int:item_id>', methods=['GET', 'PUT', 'DELETE'])\n",
        "    def handle_item(item_id):\n",
        "      if request.method == 'GET':\n",
        "          # Logic to retrieve and return a specific item\n",
        "          return jsonify({'message': f'Item {item_id} details'})\n",
        "      elif request.method == 'PUT':\n",
        "          # Logic to update a specific item\n",
        "          data = request.get_json()\n",
        "          return jsonify({'message': f'Item {item_id} updated', 'data': data})\n",
        "      elif request.method == 'DELETE':\n",
        "          # Logic to delete a specific item\n",
        "          return jsonify({'message': f'Item {item_id} deleted'})\n",
        "Handle Requests: Implement the logic for each HTTP method within the route functions. Use the request object to access request data and jsonify to return JSON responses.\n",
        "Run the App: Start the Flask development server.\n",
        "Python\n",
        "\n",
        "    if __name__ == '__main__':\n",
        "        app.run(debug=True)\n",
        "        \n",
        "Testing: Use tools like curl or Postman to send requests to your API endpoints and verify the responses.\n",
        "\n",
        "15. What is the purpose of Flask's jsonify() function?\n",
        "- Flask's jsonify() function converts Python objects, typically dictionaries, into JSON-formatted responses. It also sets the appropriate Content-Type header to application/json. This simplifies the process of creating JSON responses in Flask by handling the necessary serialization and header setting.\n",
        "\n",
        "16. Explain Flask’s url_for() function?\n",
        "- The url_for() function in Flask is used to generate URLs for a specific function. It accepts the name of the function as its first argument, and any number of keyword arguments, each corresponding to a variable part of the URL rule.\n",
        "\n",
        "17. How does Flask handle static files (CSS, JavaScript, etc.)?\n",
        "- In Flask, static files refer to files such as CSS, JavaScript, images, videos, and audio files that do not change dynamically. Flask provides a built-in way to serve these static files using the /static directory.\n",
        "\n",
        "18. What is an API specification, and how does it help in building a Flask API?\n",
        "- An API specification is a formal document that outlines the details of an API, including its behavior, operations, data models, and how it interacts with other systems. It's a blueprint for developers to use when building an API, ensuring a consistent and predictable interface.\n",
        "\n",
        "There are two ways of creating a REST API in Flask:\n",
        "\n",
        "Using Flask without any external libraries\n",
        "Using flask_restful library\n",
        "Libraries required:\n",
        "flask_restful can be installed via the pip command\n",
        "\n",
        "Method 1: using only Flask\n",
        "Here, there are two functions: One function to just return or print the data sent through GET or POST and another function to calculate the square of a number sent through GET request and print it.\n",
        "\n",
        "\n",
        "Method 2: Using flask-restful\n",
        "Flask Restful is an extension for Flask that adds support for building REST APIs in Python using Flask as the back-end. It encourages best practices and is very easy to set up. Flask restful is very easy to pick up if you’re already familiar with flask.\n",
        "\n",
        "In flask_restful, the main building block is a resource. Each resource can have several methods associated with it such as GET, POST, PUT, DELETE, etc. for example, there could be a resource that calculates the square of a number whenever a get request is sent to it. Each resource is a class that inherits from the Resource class of flask_restful. Once the resource is created and defined, we can add our custom resource to the api and specify a URL path for that corresponding resource.\n",
        "\n",
        "19. What are HTTP status codes, and why are they important in a Flask API?\n",
        "- HTTP status codes are three-digit codes that indicate the outcome of an API request. They are included in the API's response to the API client, and they include important information that helps the client know how to proceed.\n",
        "\n",
        "20. How do you handle POST requests in Flask?\n",
        "- To handle both GET and POST requests, we add that in the decorator app. route() method. Whatever request you want, you cahnge it in the decorator. Enter the following script in the Python shell.\n",
        "\n",
        "21. How would you secure a Flask AP?\n",
        "- Basic security practices are fundamental for Flask, such as employing strong cryptographic hashes for password storage, implementing protections against Cross-Site Request Forgery (CSRF) and Cross-Origin Resource Sharing (CORS), and protecting against SQL injection attacks.\n",
        "\n",
        "22. What is the significance of the Flask-RESTful extension?\n",
        "- The Flask-RESTful extension is a crucial tool for simplifying the development of RESTful APIs using the Flask framework. It provides a streamlined way to define API endpoints, manage HTTP methods, and handle request parsing, making it easier and more efficient to build RESTful web services in Python.\n",
        "\n",
        "23. What is the role of Flask’s session object?\n",
        "- In Flask, the session object provides a way to store user-specific data across multiple HTTP requests, effectively allowing for persistent information between requests. It's like a dictionary that stores data related to a user's interaction with the application, according to the Flask documentation.\n",
        "\n"
      ],
      "metadata": {
        "id": "tQGQL2lBq6x5"
      }
    },
    {
      "cell_type": "code",
      "source": [
        "# Practical Q & A\n",
        "# 1. How do you create a basic Flask application?\n",
        "\n",
        "from flask import Flask\n",
        "\n",
        "app = Flask(__name__)\n",
        "\n",
        "@app.route('/')\n",
        "def hello_world():\n",
        "    return 'Welcome to Kavita gogoi podcast!!'\n",
        "\n",
        "if __name__ == '__main__':\n",
        "    app.run(host=\"0.0.0.0\")"
      ],
      "metadata": {
        "id": "FW_ujx57vkWx",
        "colab": {
          "base_uri": "https://localhost:8080/"
        },
        "outputId": "dda00f8c-aeb0-46f3-f555-15258d0120d5"
      },
      "execution_count": null,
      "outputs": [
        {
          "output_type": "stream",
          "name": "stdout",
          "text": [
            " * Serving Flask app '__main__'\n",
            " * Debug mode: off\n"
          ]
        },
        {
          "output_type": "stream",
          "name": "stderr",
          "text": [
            "INFO:werkzeug:\u001b[31m\u001b[1mWARNING: This is a development server. Do not use it in a production deployment. Use a production WSGI server instead.\u001b[0m\n",
            " * Running on all addresses (0.0.0.0)\n",
            " * Running on http://127.0.0.1:5000\n",
            " * Running on http://172.28.0.12:5000\n",
            "INFO:werkzeug:\u001b[33mPress CTRL+C to quit\u001b[0m\n"
          ]
        }
      ]
    },
    {
      "cell_type": "code",
      "source": [
        "# 2. How do you serve static files like images or CSS in Flask?\n",
        "\n",
        "from flask import Flask, render_template\n",
        "\n",
        "app = Flask(__name__)\n",
        "\n",
        "@app.route(\"/\")\n",
        "def index():\n",
        "    message = \"Hello world\"\n",
        "    return render_template(\"index.html\",message=message)\n",
        "\n",
        "if __name__ == \"__main__\":\n",
        "    app.run(host=\"0.0.0.0\")"
      ],
      "metadata": {
        "colab": {
          "base_uri": "https://localhost:8080/"
        },
        "id": "W54h1EUtQODX",
        "outputId": "82ac2782-e7a1-4a89-f58f-adfa2c3aed66"
      },
      "execution_count": null,
      "outputs": [
        {
          "output_type": "stream",
          "name": "stdout",
          "text": [
            " * Serving Flask app '__main__'\n",
            " * Debug mode: off\n"
          ]
        },
        {
          "output_type": "stream",
          "name": "stderr",
          "text": [
            "INFO:werkzeug:\u001b[31m\u001b[1mWARNING: This is a development server. Do not use it in a production deployment. Use a production WSGI server instead.\u001b[0m\n",
            " * Running on all addresses (0.0.0.0)\n",
            " * Running on http://127.0.0.1:5000\n",
            " * Running on http://172.28.0.12:5000\n",
            "INFO:werkzeug:\u001b[33mPress CTRL+C to quit\u001b[0m\n"
          ]
        }
      ]
    },
    {
      "cell_type": "markdown",
      "source": [
        "templates\n",
        "\n",
        "1. index.html\n",
        "\n",
        "<html>\n",
        " <head>\n",
        "   <title>Flask Static Demo</title>\n",
        " </head>\n",
        " <body>\n",
        "   <h1>{{message}}</h1>\n",
        " </body>\n",
        "</html>"
      ],
      "metadata": {
        "id": "YX2Mml0kSMwN"
      }
    },
    {
      "cell_type": "code",
      "source": [
        "# 3. How do you define different routes with different HTTP methods in Flask?\n",
        "\n",
        "from flask import Flask, render_template, request, redirect, session\n",
        "\n",
        "app = Flask(__name__)\n",
        "\n",
        "\n",
        "app.secret_key = 'my_secret_key'\n",
        "\n",
        "\n",
        "users = {\n",
        "    'kunal': '1234',\n",
        "    'user2': 'password2'\n",
        "}\n",
        "\n",
        "@app.route('/')\n",
        "def view_form():\n",
        "    return render_template('login.html')\n",
        "\n",
        "@app.route('/handle_get', methods=['GET'])\n",
        "def handle_get():\n",
        "    if request.method == 'GET':\n",
        "        username = request.args['username']\n",
        "        password = request.args['password']\n",
        "        print(username, password)\n",
        "        if username in users and users[username] == password:\n",
        "            return '<h1>Welcome!!!</h1>'\n",
        "        else:\n",
        "            return '<h1>invalid credentials!</h1>'\n",
        "    else:\n",
        "        return render_template('login.html')\n",
        "\n",
        "\n",
        "@app.route('/handle_post', methods=['POST'])\n",
        "def handle_post():\n",
        "    if request.method == 'POST':\n",
        "        username = request.form['username']\n",
        "        password = request.form['password']\n",
        "        print(username, password)\n",
        "        if username in users and users[username] == password:\n",
        "            return '<h1>Welcome!!!</h1>'\n",
        "        else:\n",
        "            return '<h1>invalid credentials!</h1>'\n",
        "    else:\n",
        "        return render_template('login.html')\n",
        "\n",
        "if __name__ == '__main__':\n",
        "    app.run(host=\"0.0.0.0\")\n"
      ],
      "metadata": {
        "colab": {
          "base_uri": "https://localhost:8080/"
        },
        "id": "bx442YVzSQSj",
        "outputId": "98943649-8800-455d-c509-dc67c8f91bbf"
      },
      "execution_count": null,
      "outputs": [
        {
          "output_type": "stream",
          "name": "stdout",
          "text": [
            " * Serving Flask app '__main__'\n",
            " * Debug mode: off\n"
          ]
        },
        {
          "output_type": "stream",
          "name": "stderr",
          "text": [
            "INFO:werkzeug:\u001b[31m\u001b[1mWARNING: This is a development server. Do not use it in a production deployment. Use a production WSGI server instead.\u001b[0m\n",
            " * Running on all addresses (0.0.0.0)\n",
            " * Running on http://127.0.0.1:5000\n",
            " * Running on http://172.28.0.12:5000\n",
            "INFO:werkzeug:\u001b[33mPress CTRL+C to quit\u001b[0m\n"
          ]
        }
      ]
    },
    {
      "cell_type": "markdown",
      "source": [
        "Templates\n",
        "\n",
        "1. login.html\n",
        "\n",
        "<!-- templates/login.html-->\n",
        "\n",
        "<html>\n",
        "\n",
        "<head>\n",
        "    <title>Handling of http get and post request</title>\n",
        "    <style>\n",
        "        div {\n",
        "            width: 400px;\n",
        "            border: 1px solid green;\n",
        "            padding: 10px;\n",
        "            margin-bottom: 5px;\n",
        "        }\n",
        "    </style>\n",
        "</head>\n",
        "\n",
        "<body>\n",
        "\n",
        "    <div>\n",
        "<!-- url_for will route the forms request to\n",
        "appropriate function that user made to handle it.-->\n",
        "<!--we will Retrieve submitted values of inputs\n",
        "on the backend side using 'name' field of form.-->\n",
        "        <h1>Handle GET Request</h1>\n",
        "        <form method=\"GET\"\n",
        "              action=\"{{ url_for('handle_get') }}\">\n",
        "            <input type=\"text\"\n",
        "                   name=\"username\"\n",
        "                   placeholder=\"Username\">\n",
        "            <input type=\"password\"\n",
        "                   name=\"password\"\n",
        "                   placeholder=\"Password\">\n",
        "            <button type=\"submit\">submit</button>\n",
        "        </form>\n",
        "    </div>\n",
        "\n",
        "    <div>\n",
        "        <h1>Handle POST Request</h1>\n",
        "        <form method=\"POST\"\n",
        "              action=\"{{ url_for('handle_post') }}\">\n",
        "            <input type=\"text\"\n",
        "                   name=\"username\"\n",
        "                   placeholder=\"Username\">\n",
        "            <input type=\"password\"\n",
        "                   name=\"password\"\n",
        "                   placeholder=\"Password\">\n",
        "            <button type=\"submit\">submit</button>\n",
        "        </form>\n",
        "    </div>\n",
        "</body>\n",
        "\n",
        "</html>"
      ],
      "metadata": {
        "id": "g-NljU3WSutG"
      }
    },
    {
      "cell_type": "code",
      "source": [
        "# 4. How do you render HTML templates in Flask?\n",
        "\n",
        "from flask import Flask, render_template\n",
        "\n",
        "app = Flask(__name__)\n",
        "\n",
        "@app.route(\"/\")\n",
        "def index():\n",
        "    return render_template(\"index2.html\")\n",
        "\n",
        "if __name__ == \"__main__\":\n",
        "    app.run(host=\"0.0.0.0\")\n"
      ],
      "metadata": {
        "colab": {
          "base_uri": "https://localhost:8080/"
        },
        "id": "TI3kk-BES-Ry",
        "outputId": "5d7bb486-0004-40c4-b777-e37520496007"
      },
      "execution_count": null,
      "outputs": [
        {
          "output_type": "stream",
          "name": "stdout",
          "text": [
            " * Serving Flask app '__main__'\n",
            " * Debug mode: off\n"
          ]
        },
        {
          "output_type": "stream",
          "name": "stderr",
          "text": [
            "INFO:werkzeug:\u001b[31m\u001b[1mWARNING: This is a development server. Do not use it in a production deployment. Use a production WSGI server instead.\u001b[0m\n",
            " * Running on all addresses (0.0.0.0)\n",
            " * Running on http://127.0.0.1:5000\n",
            " * Running on http://172.28.0.12:5000\n",
            "INFO:werkzeug:\u001b[33mPress CTRL+C to quit\u001b[0m\n"
          ]
        }
      ]
    },
    {
      "cell_type": "code",
      "source": [],
      "metadata": {
        "id": "35kKkFANTSmA"
      },
      "execution_count": null,
      "outputs": []
    },
    {
      "cell_type": "markdown",
      "source": [
        "templates\n",
        "\n",
        "1. index2.html\n",
        "\n",
        "<!DOCTYPE html>\n",
        "<html>\n",
        "<head>\n",
        "    <title>Flask App</title>\n",
        "</head>\n",
        "<body>\n",
        "    <h2>Welcome to kavita's world</h2>\n",
        "    <p>This is a very exciting horror podcast ever in India.</p>\n",
        "</body>\n",
        "</html>"
      ],
      "metadata": {
        "id": "qjUtzidvTufu"
      }
    },
    {
      "cell_type": "code",
      "source": [
        "# 5. How can you generate URLs for routes in Flask using url_for?\n",
        "\n",
        "from flask import Flask, url_for, redirect\n",
        "\n",
        "app = Flask(__name__)\n",
        "\n",
        "@app.route(\"/\")\n",
        "def welcome():\n",
        "    return \"welcome to kavitagogoipodcast!\"\n",
        "\n",
        "@app.route(\"/student\")\n",
        "def student():\n",
        "    return \"welcome students to kavita's podcast!\"\n",
        "@app.route(\"/faculty\")\n",
        "def faculty():\n",
        "    return \"welcome faculty to kavita's podcast\"\n",
        "\n",
        "@app.route(\"/user/<name>\")\n",
        "def user(name):\n",
        "    if name==\"student\":\n",
        "        return redirect(url_for(\"student\"))\n",
        "    if name==\"faculty\":\n",
        "        return redirect(url_for(\"faculty\"))\n",
        "\n",
        "app.run(debug=True)"
      ],
      "metadata": {
        "colab": {
          "base_uri": "https://localhost:8080/"
        },
        "id": "6C61jZCJTzSO",
        "outputId": "b556677d-9ab9-4b93-c3d1-22c4fcd7ee0c"
      },
      "execution_count": null,
      "outputs": [
        {
          "output_type": "stream",
          "name": "stdout",
          "text": [
            " * Serving Flask app '__main__'\n",
            " * Debug mode: on\n"
          ]
        },
        {
          "output_type": "stream",
          "name": "stderr",
          "text": [
            "INFO:werkzeug:\u001b[31m\u001b[1mWARNING: This is a development server. Do not use it in a production deployment. Use a production WSGI server instead.\u001b[0m\n",
            " * Running on http://127.0.0.1:5000\n",
            "INFO:werkzeug:\u001b[33mPress CTRL+C to quit\u001b[0m\n",
            "INFO:werkzeug: * Restarting with stat\n"
          ]
        }
      ]
    },
    {
      "cell_type": "code",
      "source": [
        "# 6. How do you handle forms in Flask?\n",
        "\n",
        "from flask import Flask, render_template, request\n",
        "app = Flask(__name__)\n",
        "\n",
        "@app.route(\"/\")\n",
        "def index():\n",
        "    return render_template(\"form.html\")\n",
        "\n",
        "@app.route(\"/submit\", methods=[\"POST\"])\n",
        "def submit():\n",
        "    username = request.form[\"username\"]\n",
        "    email = request.form[\"email\"]\n",
        "    return f\"Hello, {username}! Your email is {email}\"\n",
        "\n",
        "if __name__ == '__main__':\n",
        "    app.run(debug=True)"
      ],
      "metadata": {
        "colab": {
          "base_uri": "https://localhost:8080/"
        },
        "id": "cBbfO-UST9im",
        "outputId": "01545f39-1d2b-4229-8970-df4f65f328d6"
      },
      "execution_count": null,
      "outputs": [
        {
          "output_type": "stream",
          "name": "stdout",
          "text": [
            " * Serving Flask app '__main__'\n",
            " * Debug mode: on\n"
          ]
        },
        {
          "output_type": "stream",
          "name": "stderr",
          "text": [
            "INFO:werkzeug:\u001b[31m\u001b[1mWARNING: This is a development server. Do not use it in a production deployment. Use a production WSGI server instead.\u001b[0m\n",
            " * Running on http://127.0.0.1:5000\n",
            "INFO:werkzeug:\u001b[33mPress CTRL+C to quit\u001b[0m\n",
            "INFO:werkzeug: * Restarting with stat\n"
          ]
        }
      ]
    },
    {
      "cell_type": "markdown",
      "source": [
        "templates\n",
        "\n",
        "1. form.html\n",
        "\n",
        "<!DOCTYPE html>\n",
        "<html lang=\"en\">\n",
        "<head>\n",
        "    <meta charset=\"UTF-8\">\n",
        "    <title> Form Data in Flask </title>\n",
        "</head>\n",
        "<body>\n",
        "    <h1>Submit your data</h1>\n",
        "    <form action=\"/submit\" method=\"post\">\n",
        "        <label>\n",
        "            Username:\n",
        "            <input type=\"text\" id=\"username\" name=\"username\">\n",
        "        </label>\n",
        "        <br>\n",
        "        <label>\n",
        "            Email:\n",
        "            <input type=\"email\" id=\"email\" name=\"email\">\n",
        "        </label>\n",
        "        <br>\n",
        "        <input type=\"submit\" value=\"submit\">\n",
        "    </form>\n",
        "</body>\n",
        "</html>"
      ],
      "metadata": {
        "id": "u_y-yj24UObP"
      }
    },
    {
      "cell_type": "code",
      "source": [
        "# 7. How can you validate form data in Flask?\n",
        "\n",
        "#forms.py\n",
        "\n",
        "!pip install flask_wtf\n",
        "!pip install wtforms\n",
        "!pip install wtforms.validators\n",
        "!pip install forms\n",
        "\n",
        "\n",
        "from flask_wtf import FlaskForm\n",
        "from wtforms import (StringField, TextAreaField, IntegerField, BooleanField,\n",
        "                     RadioField)\n",
        "from wtforms.validators import InputRequired, Length\n",
        "\n",
        "class CourseForm(FlaskForm):\n",
        "    title = StringField('Title', validators=[InputRequired(),\n",
        "                                             Length(min=10, max=100)])\n",
        "    description = TextAreaField('Course Description',\n",
        "                                validators=[InputRequired(),\n",
        "                                            Length(max=200)])\n",
        "    price = IntegerField('Price', validators=[InputRequired()])\n",
        "    level = RadioField('Level',\n",
        "                       choices=['Beginner', 'Intermediate', 'Advanced'],\n",
        "                       validators=[InputRequired()])\n",
        "    available = BooleanField('Available', default='checked')\n",
        "\n",
        "\n",
        "#apps.py\n",
        "\n",
        "from flask import Flask, render_template, redirect, url_for\n",
        "\n",
        "\n",
        "app = Flask(__name__)\n",
        "app.config['SECRET_KEY'] = 'your secret key'\n",
        "\n",
        "\n",
        "courses_list = [{\n",
        "    'title': 'Python 101',\n",
        "    'description': 'Learn Python basics',\n",
        "    'price': 34,\n",
        "    'available': True,\n",
        "    'level': 'Beginner'\n",
        "    }]\n",
        "\n",
        "\n",
        "@app.route('/', methods=('GET', 'POST'))\n",
        "def index():\n",
        "    form = CourseForm()\n",
        "    return render_template('index.html', form=form)\n",
        "\n",
        "if __name__ == '__main__':\n",
        "    app.run(debug=True)"
      ],
      "metadata": {
        "colab": {
          "base_uri": "https://localhost:8080/"
        },
        "id": "B0zVqmBjUHye",
        "outputId": "4936ef46-960e-4ec9-9294-82a85286f1b1"
      },
      "execution_count": null,
      "outputs": [
        {
          "output_type": "stream",
          "name": "stdout",
          "text": [
            "Collecting flask_wtf\n",
            "  Downloading flask_wtf-1.2.2-py3-none-any.whl.metadata (3.4 kB)\n",
            "Requirement already satisfied: flask in /usr/local/lib/python3.11/dist-packages (from flask_wtf) (3.1.0)\n",
            "Requirement already satisfied: itsdangerous in /usr/local/lib/python3.11/dist-packages (from flask_wtf) (2.2.0)\n",
            "Collecting wtforms (from flask_wtf)\n",
            "  Downloading wtforms-3.2.1-py3-none-any.whl.metadata (5.3 kB)\n",
            "Requirement already satisfied: Werkzeug>=3.1 in /usr/local/lib/python3.11/dist-packages (from flask->flask_wtf) (3.1.3)\n",
            "Requirement already satisfied: Jinja2>=3.1.2 in /usr/local/lib/python3.11/dist-packages (from flask->flask_wtf) (3.1.6)\n",
            "Requirement already satisfied: click>=8.1.3 in /usr/local/lib/python3.11/dist-packages (from flask->flask_wtf) (8.1.8)\n",
            "Requirement already satisfied: blinker>=1.9 in /usr/local/lib/python3.11/dist-packages (from flask->flask_wtf) (1.9.0)\n",
            "Requirement already satisfied: markupsafe in /usr/local/lib/python3.11/dist-packages (from wtforms->flask_wtf) (3.0.2)\n",
            "Downloading flask_wtf-1.2.2-py3-none-any.whl (12 kB)\n",
            "Downloading wtforms-3.2.1-py3-none-any.whl (152 kB)\n",
            "\u001b[2K   \u001b[90m━━━━━━━━━━━━━━━━━━━━━━━━━━━━━━━━━━━━━━━━\u001b[0m \u001b[32m152.5/152.5 kB\u001b[0m \u001b[31m6.3 MB/s\u001b[0m eta \u001b[36m0:00:00\u001b[0m\n",
            "\u001b[?25hInstalling collected packages: wtforms, flask_wtf\n",
            "Successfully installed flask_wtf-1.2.2 wtforms-3.2.1\n",
            "Requirement already satisfied: wtforms in /usr/local/lib/python3.11/dist-packages (3.2.1)\n",
            "Requirement already satisfied: markupsafe in /usr/local/lib/python3.11/dist-packages (from wtforms) (3.0.2)\n",
            "Collecting wtforms.validators\n",
            "  Downloading wtforms_validators-1.0.0-py3-none-any.whl.metadata (3.4 kB)\n",
            "Requirement already satisfied: WTForms in /usr/local/lib/python3.11/dist-packages (from wtforms.validators) (3.2.1)\n",
            "Collecting dnspython (from wtforms.validators)\n",
            "  Downloading dnspython-2.7.0-py3-none-any.whl.metadata (5.8 kB)\n",
            "Collecting is-disposable-email (from wtforms.validators)\n",
            "  Downloading is_disposable_email-1.0.0-py3-none-any.whl.metadata (2.5 kB)\n",
            "Requirement already satisfied: markupsafe in /usr/local/lib/python3.11/dist-packages (from WTForms->wtforms.validators) (3.0.2)\n",
            "Downloading wtforms_validators-1.0.0-py3-none-any.whl (4.7 kB)\n",
            "Downloading dnspython-2.7.0-py3-none-any.whl (313 kB)\n",
            "\u001b[2K   \u001b[90m━━━━━━━━━━━━━━━━━━━━━━━━━━━━━━━━━━━━━━━━\u001b[0m \u001b[32m313.6/313.6 kB\u001b[0m \u001b[31m8.4 MB/s\u001b[0m eta \u001b[36m0:00:00\u001b[0m\n",
            "\u001b[?25hDownloading is_disposable_email-1.0.0-py3-none-any.whl (104 kB)\n",
            "\u001b[2K   \u001b[90m━━━━━━━━━━━━━━━━━━━━━━━━━━━━━━━━━━━━━━━━\u001b[0m \u001b[32m104.4/104.4 kB\u001b[0m \u001b[31m7.7 MB/s\u001b[0m eta \u001b[36m0:00:00\u001b[0m\n",
            "\u001b[?25hInstalling collected packages: is-disposable-email, dnspython, wtforms.validators\n",
            "Successfully installed dnspython-2.7.0 is-disposable-email-1.0.0 wtforms.validators-1.0.0\n",
            "\u001b[31mERROR: Could not find a version that satisfies the requirement forms (from versions: none)\u001b[0m\u001b[31m\n",
            "\u001b[0m\u001b[31mERROR: No matching distribution found for forms\u001b[0m\u001b[31m\n",
            "\u001b[0m * Serving Flask app '__main__'\n",
            " * Debug mode: on\n"
          ]
        },
        {
          "output_type": "stream",
          "name": "stderr",
          "text": [
            "INFO:werkzeug:\u001b[31m\u001b[1mWARNING: This is a development server. Do not use it in a production deployment. Use a production WSGI server instead.\u001b[0m\n",
            " * Running on http://127.0.0.1:5000\n",
            "INFO:werkzeug:\u001b[33mPress CTRL+C to quit\u001b[0m\n",
            "INFO:werkzeug: * Restarting with stat\n"
          ]
        }
      ]
    },
    {
      "cell_type": "markdown",
      "source": [
        "**Templates**\n",
        "\n",
        "1. base.html\n",
        "\n",
        "<!DOCTYPE html>\n",
        "<html lang=\"en\">\n",
        "<head>\n",
        "    <meta charset=\"UTF-8\">\n",
        "    <title>{% block title %} {% endblock %} - FlaskApp</title>\n",
        "    <style>\n",
        "        nav a {\n",
        "            color: #d64161;\n",
        "            font-size: 3em;\n",
        "            margin-left: 50px;\n",
        "            text-decoration: none;\n",
        "        }\n",
        "    </style>\n",
        "</head>\n",
        "<body>\n",
        "    <nav>\n",
        "        <a href=\"{{ url_for('index') }}\">FlaskApp</a>\n",
        "        <a href=\"#\">About</a>\n",
        "    </nav>\n",
        "    <hr>\n",
        "    <div class=\"content\">\n",
        "        {% block content %} {% endblock %}\n",
        "    </div>\n",
        "</body>\n",
        "</html>\n",
        "\n",
        "2. index.html\n",
        "\n",
        "{% extends 'base.html' %}\n",
        "\n",
        "{% block content %}\n",
        "    <h1>{% block title %} Add a New Course {% endblock %}</h1>\n",
        "\n",
        "    <form method=\"POST\" action=\"/\">\n",
        "        {{ form.csrf_token }}\n",
        "        <p>\n",
        "            {{ form.title.label }}\n",
        "            {{ form.title(size=20) }}\n",
        "        </p>\n",
        "\n",
        "        {% if form.title.errors %}\n",
        "            <ul class=\"errors\">\n",
        "                {% for error in form.title.errors %}\n",
        "                    <li>{{ error }}</li>\n",
        "                {% endfor %}\n",
        "            </ul>\n",
        "        {% endif %}\n",
        "\n",
        "        <p>\n",
        "            {{ form.description.label }}\n",
        "        </p>\n",
        "        {{ form.description(rows=10, cols=50) }}\n",
        "\n",
        "        {% if form.description.errors %}\n",
        "            <ul class=\"errors\">\n",
        "                {% for error in form.description.errors %}\n",
        "                    <li>{{ error }}</li>\n",
        "                {% endfor %}\n",
        "            </ul>\n",
        "        {% endif %}\n",
        "\n",
        "        <p>\n",
        "            {{ form.price.label }}\n",
        "            {{ form.price() }}\n",
        "        </p>\n",
        "\n",
        "        {% if form.price.errors %}\n",
        "            <ul class=\"errors\">\n",
        "                {% for error in form.price.errors %}\n",
        "                    <li>{{ error }}</li>\n",
        "                {% endfor %}\n",
        "            </ul>\n",
        "        {% endif %}\n",
        "\n",
        "        <p>\n",
        "            {{ form.available() }} {{ form.available.label }}\n",
        "        </p>\n",
        "\n",
        "        {% if form.available.errors %}\n",
        "            <ul class=\"errors\">\n",
        "                {% for error in form.available.errors %}\n",
        "                    <li>{{ error }}</li>\n",
        "                {% endfor %}\n",
        "            </ul>\n",
        "        {% endif %}\n",
        "\n",
        "        <p>\n",
        "            {{ form.level.label }}\n",
        "            {{ form.level() }}\n",
        "        </p>\n",
        "\n",
        "        {% if form.level.errors %}\n",
        "            <ul class=\"errors\">\n",
        "                {% for error in form.level.errors %}\n",
        "                    <li>{{ error }}</li>\n",
        "                {% endfor %}\n",
        "            </ul>\n",
        "        {% endif %}\n",
        "\n",
        "        <p>\n",
        "            <input type=\"submit\" value=\"Add\">\n",
        "        </p>\n",
        "    </form>\n",
        "\n",
        "{% endblock %}"
      ],
      "metadata": {
        "id": "G7os-unzUvB9"
      }
    },
    {
      "cell_type": "code",
      "source": [
        "# 8. How do you manage sessions in Flask?\n",
        "\n",
        "from flask import Flask, render_template_string, request, session, redirect, url_for\n",
        "\n",
        "from datetime import timedelta\n",
        "\n",
        "app = Flask(__name__)\n",
        "app.secret_key = \"mysecretkey\"  # Replace with a strong, randomly generated key\n",
        "app.permanent_session_lifetime = timedelta(minutes=30)\n",
        "\n",
        "@app.route(\"/\")\n",
        "def index():\n",
        "    if \"username\" in session:\n",
        "        return f\"Logged in as {session['username']}\"\n",
        "    return \"You are not logged in\"\n",
        "\n",
        "@app.route(\"/login\", methods=[\"GET\", \"POST\"])\n",
        "def login():\n",
        "    if request.method == \"POST\":\n",
        "        session[\"username\"] = request.form[\"username\"]\n",
        "        session.permanent = True  # Mark session as permanent\n",
        "        return redirect(url_for(\"index\"))\n",
        "    return \"\"\"\n",
        "        <form method=\"post\">\n",
        "            <input type=\"text\" name=\"username\" placeholder=\"Username\">\n",
        "            <button type=\"submit\">Log in</button>\n",
        "        </form>\n",
        "    \"\"\"\n",
        "\n",
        "@app.route(\"/logout\")\n",
        "def logout():\n",
        "    session.pop(\"username\", None)\n",
        "    return redirect(url_for(\"index\"))\n",
        "\n",
        "if __name__ == \"__main__\":\n",
        "    app.run(debug=True)"
      ],
      "metadata": {
        "colab": {
          "base_uri": "https://localhost:8080/"
        },
        "id": "AWqSNk-5UhXf",
        "outputId": "9280d312-76a9-4eb9-e7ff-bab6d648c79f"
      },
      "execution_count": null,
      "outputs": [
        {
          "output_type": "stream",
          "name": "stdout",
          "text": [
            " * Serving Flask app '__main__'\n",
            " * Debug mode: on\n"
          ]
        },
        {
          "output_type": "stream",
          "name": "stderr",
          "text": [
            "INFO:werkzeug:\u001b[31m\u001b[1mWARNING: This is a development server. Do not use it in a production deployment. Use a production WSGI server instead.\u001b[0m\n",
            " * Running on http://127.0.0.1:5000\n",
            "INFO:werkzeug:\u001b[33mPress CTRL+C to quit\u001b[0m\n",
            "INFO:werkzeug: * Restarting with stat\n"
          ]
        }
      ]
    },
    {
      "cell_type": "code",
      "source": [
        "# 9. How do you redirect to a different route in Flask?\n",
        "\n",
        "from flask import Flask, redirect\n",
        "\n",
        "# instance of flask application\n",
        "app = Flask(__name__)\n",
        "\n",
        "# home route that redirects to\n",
        "# helloworld page\n",
        "@app.route(\"/\")\n",
        "def home():\n",
        "    return redirect(\"/helloworld\")\n",
        "\n",
        "# route that returns hello world text\n",
        "@app.route(\"/helloworld\")\n",
        "def hello_world():\n",
        "    return \"<p>Hello, World from \\\n",
        "                redirected page.!</p>\"\n",
        "\n",
        "\n",
        "if __name__ == '__main__':\n",
        "    app.run(debug=True)"
      ],
      "metadata": {
        "colab": {
          "base_uri": "https://localhost:8080/"
        },
        "id": "u552r_k1VJ7x",
        "outputId": "13ddbda3-54c2-43c6-a49f-7070456ac31f"
      },
      "execution_count": null,
      "outputs": [
        {
          "output_type": "stream",
          "name": "stdout",
          "text": [
            " * Serving Flask app '__main__'\n",
            " * Debug mode: on\n"
          ]
        },
        {
          "output_type": "stream",
          "name": "stderr",
          "text": [
            "INFO:werkzeug:\u001b[31m\u001b[1mWARNING: This is a development server. Do not use it in a production deployment. Use a production WSGI server instead.\u001b[0m\n",
            " * Running on http://127.0.0.1:5000\n",
            "INFO:werkzeug:\u001b[33mPress CTRL+C to quit\u001b[0m\n",
            "INFO:werkzeug: * Restarting with stat\n"
          ]
        }
      ]
    },
    {
      "cell_type": "code",
      "source": [
        "# 10. How do you handle errors in Flask (e.g., 404)?\n",
        "\n",
        "from flask import Flask, render_template\n",
        "\n",
        "app = Flask(__name__)\n",
        "\n",
        "@app.errorhandler(404)\n",
        "def not_found(e):\n",
        "  return render_template(\"404.html\")\n",
        "\n",
        "def factorial_recursive_with_base_case(n):\n",
        "    # Base case: when n is 0, return 1\n",
        "    if n == 0:\n",
        "        return 1\n",
        "\n",
        "    # Recursive call\n",
        "    return n * factorial_recursive_with_base_case(n - 1)\n",
        "\n",
        "import sys\n",
        "\n",
        "sys.setrecursionlimit(10**6)\n",
        "\n",
        "def fact(n):\n",
        "  if(n == 0):\n",
        "    return 1\n",
        "  return n * fact(n - 1)\n",
        "\n",
        "if __name__ == '__main__':\n",
        "  f = 1001\n",
        "  print(fact(f))\n",
        "app.run(host=\"0.0.0.0\")"
      ],
      "metadata": {
        "colab": {
          "base_uri": "https://localhost:8080/"
        },
        "id": "YcKRM_DSVS64",
        "outputId": "bb706e59-9e0b-466e-de45-0d468f74d389"
      },
      "execution_count": null,
      "outputs": [
        {
          "output_type": "stream",
          "name": "stdout",
          "text": [
            "402789647337170867317246136356926989705094239074925347176343710340368450911027649612636252695456374205280468598807393254690298539867803367460225153499614535588421928591160833678742451354915921252299285456946271396995850437959540645019696372741142787347450281325324373824456300226871609431497826989489109522725791691167945698509282421538632966523376679891823696900982075223188279465194065489111498586522997573307838057934994706212934291477882221464914058745808179795130018969175605739824237247684512790169648013778158661520384916357285547219660337504067910087936301580874662367543921288988208261944834178369169805682489420504038334529389177845089679546075023305854006141256288633820079940395329251563788399404652902154519302928365169452383531030755684578503851488154092323576150311569325891190105926118761607100286827930472944913272420825078912158741589850136017030887975452922434889688775883386977825215904423682478943313806072144097432418695807412571292308739802481089407002523955080148184062810447564594783139830113821372260474145316521647368313934670783858482781506915288378941348078689691815657785305896912277993200639858696294199549107738635599538328374931258525869323348477334798827676297868823693023377418942304272267800509765805435653787530370118261219994752588866451072715583785495394684524593296728611334955079882857173250037068541860372512693170819259309411027837176612444692649174536429745421086287708588130082168792750697158901737130221751430550976429258055277255676893874108456870904122902259417224707137723406125811549952159629766771063079472679280213882978523785424760309678138268708239764925768714349554665438389311198715040908077757086900159389712443987670244241787904585093011546861502058550090914877900852701619648229332192401075747543562989953271508977501771085759521631427816116191761031257454497039673414248149210836002497114107565960458576525212556159634975715552638678172137468172843066451093984443636560722213668172225585711566558134467392654185460222589723312097599987253417831473939565071006344352518096564427781204200068323913056897090916602712260306869786107237077572445866572945760977721639408338430009976028970539150822336553856613962747814621747092348996915755983464741082000337526945990059365493439921937093368896754791416759604324895514660325913157843796039917819613717350380997781225472000000000000000000000000000000000000000000000000000000000000000000000000000000000000000000000000000000000000000000000000000000000000000000000000000000000000000000000000000000000000000000000000000000000000000000000000000000000000000000000000000000000\n",
            " * Serving Flask app '__main__'\n",
            " * Debug mode: off\n"
          ]
        },
        {
          "output_type": "stream",
          "name": "stderr",
          "text": [
            "INFO:werkzeug:\u001b[31m\u001b[1mWARNING: This is a development server. Do not use it in a production deployment. Use a production WSGI server instead.\u001b[0m\n",
            " * Running on all addresses (0.0.0.0)\n",
            " * Running on http://127.0.0.1:5000\n",
            " * Running on http://172.28.0.12:5000\n",
            "INFO:werkzeug:\u001b[33mPress CTRL+C to quit\u001b[0m\n"
          ]
        }
      ]
    },
    {
      "cell_type": "markdown",
      "source": [
        "templates\n",
        "\n",
        "1. 404.html\n",
        "\n",
        "{% extends \"header.html\" %}\n",
        "\n",
        "{% block title %}Page Not Found{% endblock %}\n",
        "\n",
        "{% block body %}\n",
        "<h1>Oops! Looks like the page doesnt exist anymore</h1>\n",
        "<p id=\"pageInfo\">Redirecting to Home Page after 5 seconds...</p>\n",
        " <script>\n",
        "    var seconds = 5;\n",
        "    var url = \"{{ url_for('index') }}\";\n",
        "    function redirect() {\n",
        "        if (seconds <= 0) {\n",
        "            window.location = url;\n",
        "        } else {\n",
        "            seconds--;\n",
        "            document.getElementById(\"pageInfo\").innerHTML = \"Redirecting to Home Page after \" + seconds + \" seconds.\";\n",
        "            setTimeout(redirect, 1000);\n",
        "        }\n",
        "    }\n",
        "    window.onload = redirect;\n",
        "</script>\n",
        "{% endblock %}"
      ],
      "metadata": {
        "id": "9R97z1URVn9X"
      }
    },
    {
      "cell_type": "code",
      "source": [
        "# 11. How do you structure a Flask app using Blueprints?\n",
        "\n",
        "!pip install flask-blueprint\n",
        "import functools\n",
        "from flask import Flask\n",
        "from flask import Blueprint, flash, g, redirect, render_template, request, session, url_for\n",
        "from . import auth\n",
        "app.register_blueprint(auth.bp)\n",
        "from Blueprints.auth import auth_bp\n",
        "from blueprints.users import users_bp\n",
        "\n",
        "\n",
        "\n",
        "app = Flask(__name__)\n",
        "\n",
        "app.register_blueprint(auth_bp, url_prefix='/auth')\n",
        "app.register_blueprint(users_bp, url_prefix='/users')\n",
        "\n",
        "if __name__ == '__main__':\n",
        "  app.run(host=\"0.0.0.0\")"
      ],
      "metadata": {
        "colab": {
          "base_uri": "https://localhost:8080/",
          "height": 417
        },
        "id": "WDf-4kGOVkih",
        "outputId": "1c49fd79-f99a-40fc-d8c2-7c20c94ee69e"
      },
      "execution_count": null,
      "outputs": [
        {
          "output_type": "stream",
          "name": "stdout",
          "text": [
            "Requirement already satisfied: flask-blueprint in /usr/local/lib/python3.11/dist-packages (1.3.0)\n"
          ]
        },
        {
          "output_type": "error",
          "ename": "ImportError",
          "evalue": "attempted relative import with no known parent package",
          "traceback": [
            "\u001b[0;31m---------------------------------------------------------------------------\u001b[0m",
            "\u001b[0;31mImportError\u001b[0m                               Traceback (most recent call last)",
            "\u001b[0;32m<ipython-input-31-449f39d52936>\u001b[0m in \u001b[0;36m<cell line: 0>\u001b[0;34m()\u001b[0m\n\u001b[1;32m      5\u001b[0m \u001b[0;32mfrom\u001b[0m \u001b[0mflask\u001b[0m \u001b[0;32mimport\u001b[0m \u001b[0mFlask\u001b[0m\u001b[0;34m\u001b[0m\u001b[0;34m\u001b[0m\u001b[0m\n\u001b[1;32m      6\u001b[0m \u001b[0;32mfrom\u001b[0m \u001b[0mflask\u001b[0m \u001b[0;32mimport\u001b[0m \u001b[0mBlueprint\u001b[0m\u001b[0;34m,\u001b[0m \u001b[0mflash\u001b[0m\u001b[0;34m,\u001b[0m \u001b[0mg\u001b[0m\u001b[0;34m,\u001b[0m \u001b[0mredirect\u001b[0m\u001b[0;34m,\u001b[0m \u001b[0mrender_template\u001b[0m\u001b[0;34m,\u001b[0m \u001b[0mrequest\u001b[0m\u001b[0;34m,\u001b[0m \u001b[0msession\u001b[0m\u001b[0;34m,\u001b[0m \u001b[0murl_for\u001b[0m\u001b[0;34m\u001b[0m\u001b[0;34m\u001b[0m\u001b[0m\n\u001b[0;32m----> 7\u001b[0;31m \u001b[0;32mfrom\u001b[0m \u001b[0;34m.\u001b[0m \u001b[0;32mimport\u001b[0m \u001b[0mauth\u001b[0m\u001b[0;34m\u001b[0m\u001b[0;34m\u001b[0m\u001b[0m\n\u001b[0m\u001b[1;32m      8\u001b[0m \u001b[0mapp\u001b[0m\u001b[0;34m.\u001b[0m\u001b[0mregister_blueprint\u001b[0m\u001b[0;34m(\u001b[0m\u001b[0mauth\u001b[0m\u001b[0;34m.\u001b[0m\u001b[0mbp\u001b[0m\u001b[0;34m)\u001b[0m\u001b[0;34m\u001b[0m\u001b[0;34m\u001b[0m\u001b[0m\n\u001b[1;32m      9\u001b[0m \u001b[0;32mfrom\u001b[0m \u001b[0mBlueprints\u001b[0m\u001b[0;34m.\u001b[0m\u001b[0mauth\u001b[0m \u001b[0;32mimport\u001b[0m \u001b[0mauth_bp\u001b[0m\u001b[0;34m\u001b[0m\u001b[0;34m\u001b[0m\u001b[0m\n",
            "\u001b[0;31mImportError\u001b[0m: attempted relative import with no known parent package",
            "",
            "\u001b[0;31m---------------------------------------------------------------------------\u001b[0;32m\nNOTE: If your import is failing due to a missing package, you can\nmanually install dependencies using either !pip or !apt.\n\nTo view examples of installing some common dependencies, click the\n\"Open Examples\" button below.\n\u001b[0;31m---------------------------------------------------------------------------\u001b[0m\n"
          ],
          "errorDetails": {
            "actions": [
              {
                "action": "open_url",
                "actionText": "Open Examples",
                "url": "/notebooks/snippets/importing_libraries.ipynb"
              }
            ]
          }
        }
      ]
    },
    {
      "cell_type": "code",
      "source": [
        "# blueprints/auth.py\n",
        "\n",
        "from flask import Blueprint\n",
        "\n",
        "auth_bp = Blueprint('auth', __name__, template_folder='templates')\n",
        "\n",
        "@auth_bp.route('/login')\n",
        "def login():\n",
        "  return \"Login Page\"\n",
        "\n",
        "@auth_bp.route('/logout')\n",
        "def logout():\n",
        "  return \"Logout Successful\"\n",
        "\n",
        "app.run()"
      ],
      "metadata": {
        "colab": {
          "base_uri": "https://localhost:8080/"
        },
        "id": "iqb5_HXpV3km",
        "outputId": "7a3d701a-44d3-46af-d858-31e5539a0928"
      },
      "execution_count": null,
      "outputs": [
        {
          "output_type": "stream",
          "name": "stdout",
          "text": [
            " * Serving Flask app '__main__'\n",
            " * Debug mode: off\n"
          ]
        },
        {
          "output_type": "stream",
          "name": "stderr",
          "text": [
            "INFO:werkzeug:\u001b[31m\u001b[1mWARNING: This is a development server. Do not use it in a production deployment. Use a production WSGI server instead.\u001b[0m\n",
            " * Running on http://127.0.0.1:5000\n",
            "INFO:werkzeug:\u001b[33mPress CTRL+C to quit\u001b[0m\n"
          ]
        }
      ]
    },
    {
      "cell_type": "code",
      "source": [
        "# blueprints/users.py\n",
        "\n",
        "\n",
        "from flask import Blueprint\n",
        "\n",
        "users_bp = Blueprint('users', __name__, template_folder='templates')\n",
        "\n",
        "@users_bp.route('/profile')\n",
        "def profile():\n",
        "  return \"User Profile\"\n",
        "\n",
        "app.run()\n"
      ],
      "metadata": {
        "colab": {
          "base_uri": "https://localhost:8080/"
        },
        "id": "Lx6oj0fsWZG_",
        "outputId": "4a284891-8057-4882-bb7c-aa1cde298dba"
      },
      "execution_count": null,
      "outputs": [
        {
          "output_type": "stream",
          "name": "stdout",
          "text": [
            " * Serving Flask app '__main__'\n",
            " * Debug mode: off\n"
          ]
        },
        {
          "output_type": "stream",
          "name": "stderr",
          "text": [
            "INFO:werkzeug:\u001b[31m\u001b[1mWARNING: This is a development server. Do not use it in a production deployment. Use a production WSGI server instead.\u001b[0m\n",
            " * Running on http://127.0.0.1:5000\n",
            "INFO:werkzeug:\u001b[33mPress CTRL+C to quit\u001b[0m\n"
          ]
        }
      ]
    },
    {
      "cell_type": "code",
      "source": [
        "# 12. How do you define a custom Jinja filter in Flask?\n",
        "\n",
        "!pip install jinja2\n",
        "\n",
        "from flask import Flask\n",
        "\n",
        "app = Flask(__name__)\n",
        "\n",
        "def reverse_string(s):\n",
        "  return s[::-1]\n",
        "\n",
        "app.jinja_env.filters['reverse'] = reverse_string\n",
        "\n",
        "\n",
        "if __name__=='__main__':\n",
        "  app.run(host=\"0.0.0.0\")\n"
      ],
      "metadata": {
        "colab": {
          "base_uri": "https://localhost:8080/"
        },
        "id": "vxdKxhH_WgmR",
        "outputId": "29f1a5c0-02ef-4719-dbe3-8c1e341fa004"
      },
      "execution_count": null,
      "outputs": [
        {
          "output_type": "stream",
          "name": "stdout",
          "text": [
            "Requirement already satisfied: jinja2 in /usr/local/lib/python3.11/dist-packages (3.1.6)\n",
            "Requirement already satisfied: MarkupSafe>=2.0 in /usr/local/lib/python3.11/dist-packages (from jinja2) (3.0.2)\n",
            " * Serving Flask app '__main__'\n",
            " * Debug mode: off\n"
          ]
        },
        {
          "output_type": "stream",
          "name": "stderr",
          "text": [
            "INFO:werkzeug:\u001b[31m\u001b[1mWARNING: This is a development server. Do not use it in a production deployment. Use a production WSGI server instead.\u001b[0m\n",
            " * Running on all addresses (0.0.0.0)\n",
            " * Running on http://127.0.0.1:5000\n",
            " * Running on http://172.28.0.12:5000\n",
            "INFO:werkzeug:\u001b[33mPress CTRL+C to quit\u001b[0m\n"
          ]
        }
      ]
    },
    {
      "cell_type": "code",
      "source": [
        "# 13. How can you redirect with query parameters in Flask?\n",
        "\n",
        "from flask import Flask, redirect, url_for, request\n",
        "\n",
        "\n",
        "app = Flask(__name__)\n",
        "\n",
        "@app.route('/')\n",
        "def index():\n",
        "    return '''<form action=\"/goto\" method=\"POST\">\n",
        "            <input name=\"username\">\n",
        "            <input type=\"submit\" value=\"Go\">\n",
        "        </form>'''\n",
        "\n",
        "@app.route('/goto', methods=['POST'])\n",
        "def login_post():\n",
        "    username = request.form.get('username')\n",
        "    if username is None or username == '':\n",
        "        return redirect(url_for('user_page_central'))\n",
        "    return redirect(url_for('user_page', name = username))\n",
        "\n",
        "@app.route('/user/')\n",
        "def user_page_central():\n",
        "    return 'List of users'\n",
        "\n",
        "@app.route('/user/<name>')\n",
        "def user_page(name):\n",
        "    return f'Page of {name}'\n",
        "\n",
        "app.run(host=\"0.0.0.0\")"
      ],
      "metadata": {
        "colab": {
          "base_uri": "https://localhost:8080/"
        },
        "id": "O0pW2-sLW30q",
        "outputId": "1eac24f2-1935-433a-8802-b2df1f973362"
      },
      "execution_count": null,
      "outputs": [
        {
          "output_type": "stream",
          "name": "stdout",
          "text": [
            " * Serving Flask app '__main__'\n",
            " * Debug mode: off\n"
          ]
        },
        {
          "output_type": "stream",
          "name": "stderr",
          "text": [
            "INFO:werkzeug:\u001b[31m\u001b[1mWARNING: This is a development server. Do not use it in a production deployment. Use a production WSGI server instead.\u001b[0m\n",
            " * Running on all addresses (0.0.0.0)\n",
            " * Running on http://127.0.0.1:5000\n",
            " * Running on http://172.28.0.12:5000\n",
            "INFO:werkzeug:\u001b[33mPress CTRL+C to quit\u001b[0m\n"
          ]
        }
      ]
    },
    {
      "cell_type": "code",
      "source": [
        "# 14. How do you return JSON responses in Flask?\n",
        "\n",
        "from flask import Flask, jsonify\n",
        "\n",
        "\n",
        "app =   Flask(__name__)\n",
        "\n",
        "@app.route('/summary')\n",
        "def summary():\n",
        "    data = make_summary()\n",
        "    response = app.response_class(\n",
        "        response=json.dumps(data),\n",
        "        status=200,\n",
        "        mimetype='application/json'\n",
        "    )\n",
        "    return response\n",
        "\n",
        "if __name__=='__main__':\n",
        "    app.run(host=\"0.0.0.0\")\n",
        "\n"
      ],
      "metadata": {
        "colab": {
          "base_uri": "https://localhost:8080/"
        },
        "id": "eabJ8W9hXENo",
        "outputId": "94fc995a-3ea0-479a-8fe2-e9666c2a5b5e"
      },
      "execution_count": null,
      "outputs": [
        {
          "output_type": "stream",
          "name": "stdout",
          "text": [
            " * Serving Flask app '__main__'\n",
            " * Debug mode: off\n"
          ]
        },
        {
          "output_type": "stream",
          "name": "stderr",
          "text": [
            "INFO:werkzeug:\u001b[31m\u001b[1mWARNING: This is a development server. Do not use it in a production deployment. Use a production WSGI server instead.\u001b[0m\n",
            " * Running on all addresses (0.0.0.0)\n",
            " * Running on http://127.0.0.1:5000\n",
            " * Running on http://172.28.0.12:5000\n",
            "INFO:werkzeug:\u001b[33mPress CTRL+C to quit\u001b[0m\n"
          ]
        }
      ]
    },
    {
      "cell_type": "code",
      "source": [
        "# 15. How do you capture URL parameters in Flask?\n",
        "\n",
        "from flask import Flask, request\n",
        "\n",
        "app = Flask(__name__)\n",
        "\n",
        "@app.route(\"/\", methods = [\"GET\"])\n",
        "def get_info():\n",
        "    username = request.args.get(\"username\")\n",
        "    age = request.args.get(\"age\")\n",
        "\n",
        "    return f\" Hello this is homepage : {username}, this is my age : {age}\"\n",
        "\n",
        "if __name__ == '__main__':\n",
        "    app.run(host=\"0.0.0.0\")"
      ],
      "metadata": {
        "colab": {
          "base_uri": "https://localhost:8080/"
        },
        "id": "CWwHJ02QY25m",
        "outputId": "e5bc4ed8-00a3-4a4a-cb8c-ee5d49842cf8"
      },
      "execution_count": null,
      "outputs": [
        {
          "output_type": "stream",
          "name": "stdout",
          "text": [
            " * Serving Flask app '__main__'\n",
            " * Debug mode: off\n"
          ]
        },
        {
          "output_type": "stream",
          "name": "stderr",
          "text": [
            "INFO:werkzeug:\u001b[31m\u001b[1mWARNING: This is a development server. Do not use it in a production deployment. Use a production WSGI server instead.\u001b[0m\n",
            " * Running on all addresses (0.0.0.0)\n",
            " * Running on http://127.0.0.1:5000\n",
            " * Running on http://172.28.0.12:5000\n",
            "INFO:werkzeug:\u001b[33mPress CTRL+C to quit\u001b[0m\n"
          ]
        }
      ]
    },
    {
      "cell_type": "code",
      "source": [],
      "metadata": {
        "id": "W9CH3o4VY-Tt"
      },
      "execution_count": null,
      "outputs": []
    }
  ]
}